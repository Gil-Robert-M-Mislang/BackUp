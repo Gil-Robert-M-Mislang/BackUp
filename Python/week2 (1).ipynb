{
 "cells": [
  {
   "cell_type": "markdown",
   "id": "836ff1ca-537c-4ebd-ab95-ba44e8735918",
   "metadata": {},
   "source": [
    "# Dot Product, Norms, and Distance"
   ]
  },
  {
   "cell_type": "code",
   "execution_count": 1,
   "id": "f9379e66-da57-4254-a4b8-0b5c9de6241a",
   "metadata": {},
   "outputs": [],
   "source": [
    "import numpy as np"
   ]
  },
  {
   "cell_type": "code",
   "execution_count": 2,
   "id": "1b771523-2bf9-4055-ae08-a5b2ae3c5ed9",
   "metadata": {},
   "outputs": [],
   "source": [
    "x = np.array([-2,1,0,-1])\n",
    "y = np.array([2,3,-6,0])\n",
    "z = np.array([2,-6,9,0])"
   ]
  },
  {
   "cell_type": "code",
   "execution_count": 3,
   "id": "b99695bd-561c-4744-98c4-3383cd315a8c",
   "metadata": {},
   "outputs": [
    {
     "name": "stdout",
     "output_type": "stream",
     "text": [
      "[ 0  4 -6 -1]\n"
     ]
    }
   ],
   "source": [
    "SUM = x + y\n",
    "print(SUM)"
   ]
  },
  {
   "cell_type": "code",
   "execution_count": 4,
   "id": "f6d2a989-a6a4-432b-afaf-d10927934ef0",
   "metadata": {},
   "outputs": [
    {
     "name": "stdout",
     "output_type": "stream",
     "text": [
      "[ 10  23 -42  -2]\n"
     ]
    }
   ],
   "source": [
    "LC = 2*x + 7*y\n",
    "print(LC)"
   ]
  },
  {
   "cell_type": "markdown",
   "id": "563fe843-6f37-4852-9fea-4b55aa7a389e",
   "metadata": {},
   "source": [
    "## Dot Product"
   ]
  },
  {
   "cell_type": "code",
   "execution_count": 7,
   "id": "c4057522-3939-49b3-9562-8c03904ab2af",
   "metadata": {},
   "outputs": [
    {
     "name": "stdout",
     "output_type": "stream",
     "text": [
      "-1\n"
     ]
    }
   ],
   "source": [
    "dot = x @ y\n",
    "print(dot)"
   ]
  },
  {
   "cell_type": "code",
   "execution_count": 9,
   "id": "f063538a-7dcc-46a1-a658-c6fb185a81c1",
   "metadata": {},
   "outputs": [
    {
     "name": "stdout",
     "output_type": "stream",
     "text": [
      "-1\n"
     ]
    }
   ],
   "source": [
    "dot_ulit = np.dot(x,y)\n",
    "print(dot_ulit)"
   ]
  },
  {
   "cell_type": "markdown",
   "id": "3798cdf3-033e-4d99-b6ef-98343da532a5",
   "metadata": {},
   "source": [
    "## Norm"
   ]
  },
  {
   "cell_type": "code",
   "execution_count": 10,
   "id": "0846fdfb-684d-4a08-bdf7-908169291390",
   "metadata": {},
   "outputs": [
    {
     "name": "stdout",
     "output_type": "stream",
     "text": [
      "2.449489742783178\n"
     ]
    }
   ],
   "source": [
    "norm = np.linalg.norm(x)\n",
    "print(norm)"
   ]
  },
  {
   "cell_type": "markdown",
   "id": "f8325338-1e3b-4734-a43e-685a74212690",
   "metadata": {},
   "source": [
    "Calculate $(\\vec x \\cdot \\vec y)\\vec y + \\|\\vec x\\|^2\\, \\vec z$."
   ]
  },
  {
   "cell_type": "code",
   "execution_count": 13,
   "id": "5f9ee8f8-8cb1-4333-a700-fce592159609",
   "metadata": {},
   "outputs": [
    {
     "name": "stdout",
     "output_type": "stream",
     "text": [
      "[ 10. -39.  60.   0.]\n"
     ]
    }
   ],
   "source": [
    "sara = (dot*y)+((norm**2)*z)\n",
    "print(sara)"
   ]
  },
  {
   "cell_type": "markdown",
   "id": "c59c14f6-d3e8-4c94-bce7-e695e6244f26",
   "metadata": {},
   "source": [
    "(2)    $\\|\\|\\vec x - \\vec y\\|\\vec z\\|$"
   ]
  },
  {
   "cell_type": "code",
   "execution_count": 15,
   "id": "47ff8d30-c681-47f2-9ed5-7ef9dc49226d",
   "metadata": {},
   "outputs": [
    {
     "name": "stdout",
     "output_type": "stream",
     "text": [
      "83.04817878797826\n"
     ]
    }
   ],
   "source": [
    "curlee = np.linalg.norm(np.linalg.norm(x - y) * z)\n",
    "print(curlee)"
   ]
  },
  {
   "cell_type": "markdown",
   "id": "9258c2a6-18fc-4938-b91e-084d93ee84e1",
   "metadata": {},
   "source": [
    "(3) $(\\vec x\\cdot\\vec z)\\vec y + (\\vec y\\cdot \\vec z)$"
   ]
  },
  {
   "cell_type": "code",
   "execution_count": 19,
   "id": "e7f02532-5b79-457c-b87b-4ba0b75d5b51",
   "metadata": {},
   "outputs": [
    {
     "data": {
      "text/plain": [
       "array([3, 4, 5])"
      ]
     },
     "execution_count": 19,
     "metadata": {},
     "output_type": "execute_result"
    }
   ],
   "source": [
    "2 + np.array([1,2,3])"
   ]
  },
  {
   "cell_type": "code",
   "execution_count": 20,
   "id": "7559cced-e513-41c8-8f84-2613183fa108",
   "metadata": {},
   "outputs": [
    {
     "name": "stdout",
     "output_type": "stream",
     "text": [
      "[-88 -98  -8 -68]\n"
     ]
    }
   ],
   "source": [
    "jinggoy = ((x @ z) * y) + (y @ z)\n",
    "print(jinggoy)"
   ]
  },
  {
   "cell_type": "markdown",
   "id": "f5e15332-0bb2-49c3-b195-305266f890f5",
   "metadata": {},
   "source": [
    "In linear algebra, however, the expression is **not** defined."
   ]
  },
  {
   "cell_type": "markdown",
   "id": "52eb51ea-4965-4977-a0f7-5acf4481ae0f",
   "metadata": {},
   "source": [
    "**EXERCISE** Write a program that calculates the sum of components of the vector \n",
    "\n",
    "$\\vec x= \\begin{bmatrix}\n",
    "1 \\\\ 2\\\\ 3\\\\ 4\n",
    "\\end{bmatrix}$"
   ]
  },
  {
   "cell_type": "code",
   "execution_count": 21,
   "id": "508f867c-a155-44f1-9724-2b7831d3c361",
   "metadata": {},
   "outputs": [],
   "source": [
    "vec_x = np.array([1,2,3,4])"
   ]
  },
  {
   "cell_type": "code",
   "execution_count": 23,
   "id": "cc881091-c7ee-43d1-a9d2-1604d4ae2814",
   "metadata": {},
   "outputs": [
    {
     "name": "stdout",
     "output_type": "stream",
     "text": [
      "10\n"
     ]
    }
   ],
   "source": [
    "sum_entries = vec_x[0] + vec_x[1] + vec_x[2] + vec_x[3]\n",
    "print(sum_entries)"
   ]
  },
  {
   "cell_type": "code",
   "execution_count": 26,
   "id": "337f4bde-5711-4764-9ed6-49202fd95fc6",
   "metadata": {},
   "outputs": [],
   "source": [
    "ones = np.ones(4)"
   ]
  },
  {
   "cell_type": "code",
   "execution_count": 27,
   "id": "e936eb1e-8f54-426f-b19f-ed236b8c7672",
   "metadata": {},
   "outputs": [
    {
     "name": "stdout",
     "output_type": "stream",
     "text": [
      "10.0\n"
     ]
    }
   ],
   "source": [
    "sum_entries_ulit = vec_x @ ones\n",
    "print(sum_entries_ulit)"
   ]
  },
  {
   "cell_type": "markdown",
   "id": "f3fd27e9-7fcd-404c-9884-f460c4390005",
   "metadata": {},
   "source": [
    "# Matrices"
   ]
  },
  {
   "cell_type": "markdown",
   "id": "3afef815-37b9-4a63-836f-21e38d4030a7",
   "metadata": {},
   "source": [
    "$A=\\begin{bmatrix}\n",
    "-3 & 0 & 2\\\\\n",
    "1 & 2 & -2\n",
    "\\end{bmatrix}$ and $B=\\begin{bmatrix}\n",
    "1 & 3 & -4\\\\\n",
    "-3 & -2 & 0\n",
    "\\end{bmatrix}$"
   ]
  },
  {
   "cell_type": "code",
   "execution_count": 28,
   "id": "d937a09d-d167-4944-8854-ab4e93669399",
   "metadata": {},
   "outputs": [],
   "source": [
    "A = np.array([[-3,0,2],[1,2,-2]])\n",
    "B = np.array([[1,3,-4],[-3,-2,0]])"
   ]
  },
  {
   "cell_type": "code",
   "execution_count": 29,
   "id": "9fd10034-dbe2-4b30-b977-cb153732c3be",
   "metadata": {},
   "outputs": [
    {
     "name": "stdout",
     "output_type": "stream",
     "text": [
      "(2, 3)\n"
     ]
    }
   ],
   "source": [
    "print(A.shape)"
   ]
  },
  {
   "cell_type": "code",
   "execution_count": 30,
   "id": "f234952d-57d8-4448-ab64-fff0bc6022fa",
   "metadata": {},
   "outputs": [
    {
     "name": "stdout",
     "output_type": "stream",
     "text": [
      "(2, 3)\n"
     ]
    }
   ],
   "source": [
    "print(B.shape)"
   ]
  },
  {
   "cell_type": "code",
   "execution_count": 31,
   "id": "b8d1114b-9f8c-4125-a223-78310ca7a557",
   "metadata": {},
   "outputs": [
    {
     "name": "stdout",
     "output_type": "stream",
     "text": [
      "[[-2  3 -2]\n",
      " [-2  0 -2]]\n"
     ]
    }
   ],
   "source": [
    "C = A+B\n",
    "print(C)"
   ]
  },
  {
   "cell_type": "code",
   "execution_count": 33,
   "id": "f84f9ce9-30bc-4e81-861f-05940d5db7f9",
   "metadata": {},
   "outputs": [
    {
     "name": "stdout",
     "output_type": "stream",
     "text": [
      "[[-9 -9 16]\n",
      " [11 10 -4]]\n"
     ]
    }
   ],
   "source": [
    "E = 2*A + (-3)*B\n",
    "print(E)"
   ]
  },
  {
   "cell_type": "code",
   "execution_count": 34,
   "id": "118406a5-2539-4a32-9c60-7ce15024e366",
   "metadata": {},
   "outputs": [
    {
     "name": "stdout",
     "output_type": "stream",
     "text": [
      "(3, 2)\n"
     ]
    }
   ],
   "source": [
    "F = np.array([[1,2],[3,4],[5,6]])\n",
    "print(F.shape)"
   ]
  },
  {
   "cell_type": "code",
   "execution_count": 35,
   "id": "f8679a07-6b1b-4765-90fb-07defe4f347d",
   "metadata": {},
   "outputs": [
    {
     "ename": "ValueError",
     "evalue": "operands could not be broadcast together with shapes (2,3) (3,2) ",
     "output_type": "error",
     "traceback": [
      "\u001b[31m---------------------------------------------------------------------------\u001b[39m",
      "\u001b[31mValueError\u001b[39m                                Traceback (most recent call last)",
      "\u001b[36mCell\u001b[39m\u001b[36m \u001b[39m\u001b[32mIn[35]\u001b[39m\u001b[32m, line 1\u001b[39m\n\u001b[32m----> \u001b[39m\u001b[32m1\u001b[39m \u001b[38;5;28mprint\u001b[39m(\u001b[43mA\u001b[49m\u001b[43m+\u001b[49m\u001b[43mF\u001b[49m)\n",
      "\u001b[31mValueError\u001b[39m: operands could not be broadcast together with shapes (2,3) (3,2) "
     ]
    }
   ],
   "source": [
    "print(A+F)"
   ]
  },
  {
   "cell_type": "code",
   "execution_count": 36,
   "id": "7a32f1a5-15d6-4d4d-829c-ea669e46b701",
   "metadata": {},
   "outputs": [],
   "source": [
    "X = np.array([[2,1],[-3,4],[1,6]])\n",
    "Y = np.array([[0,-1,0],[4,0,2],[8,-1,7]])"
   ]
  },
  {
   "cell_type": "code",
   "execution_count": 37,
   "id": "be20a4c1-2872-4e63-bbf2-ba31cf846f0c",
   "metadata": {},
   "outputs": [
    {
     "ename": "ValueError",
     "evalue": "matmul: Input operand 1 has a mismatch in its core dimension 0, with gufunc signature (n?,k),(k,m?)->(n?,m?) (size 3 is different from 2)",
     "output_type": "error",
     "traceback": [
      "\u001b[31m---------------------------------------------------------------------------\u001b[39m",
      "\u001b[31mValueError\u001b[39m                                Traceback (most recent call last)",
      "\u001b[36mCell\u001b[39m\u001b[36m \u001b[39m\u001b[32mIn[37]\u001b[39m\u001b[32m, line 1\u001b[39m\n\u001b[32m----> \u001b[39m\u001b[32m1\u001b[39m \u001b[38;5;28mprint\u001b[39m(\u001b[43mX\u001b[49m\u001b[43m \u001b[49m\u001b[43m@\u001b[49m\u001b[43m \u001b[49m\u001b[43mY\u001b[49m)\n",
      "\u001b[31mValueError\u001b[39m: matmul: Input operand 1 has a mismatch in its core dimension 0, with gufunc signature (n?,k),(k,m?)->(n?,m?) (size 3 is different from 2)"
     ]
    }
   ],
   "source": [
    "print(X @ Y)"
   ]
  },
  {
   "cell_type": "code",
   "execution_count": 38,
   "id": "4262064e-6670-417a-9c95-ceb2fb044e8c",
   "metadata": {},
   "outputs": [
    {
     "name": "stdout",
     "output_type": "stream",
     "text": [
      "[[ 3 -4]\n",
      " [10 16]\n",
      " [26 46]]\n"
     ]
    }
   ],
   "source": [
    "print(Y @ X)"
   ]
  },
  {
   "cell_type": "code",
   "execution_count": 39,
   "id": "f9539c0c-9785-4a83-a32d-23e8a6870287",
   "metadata": {},
   "outputs": [
    {
     "name": "stdout",
     "output_type": "stream",
     "text": [
      "[[ 3 -4]\n",
      " [10 16]\n",
      " [26 46]]\n"
     ]
    }
   ],
   "source": [
    "print(np.matmul(Y,X))"
   ]
  },
  {
   "cell_type": "code",
   "execution_count": 40,
   "id": "8167f6c0-6122-4471-9c79-62178ddeed0e",
   "metadata": {},
   "outputs": [
    {
     "name": "stdout",
     "output_type": "stream",
     "text": [
      "[[ 3 -4]\n",
      " [10 16]\n",
      " [26 46]]\n"
     ]
    }
   ],
   "source": [
    "print(np.dot(Y,X))"
   ]
  },
  {
   "cell_type": "code",
   "execution_count": null,
   "id": "83401ef9-b08f-44cd-9adf-8bb53dceabdd",
   "metadata": {},
   "outputs": [],
   "source": []
  }
 ],
 "metadata": {
  "kernelspec": {
   "display_name": "Python 3 (ipykernel)",
   "language": "python",
   "name": "python3"
  },
  "language_info": {
   "codemirror_mode": {
    "name": "ipython",
    "version": 3
   },
   "file_extension": ".py",
   "mimetype": "text/x-python",
   "name": "python",
   "nbconvert_exporter": "python",
   "pygments_lexer": "ipython3",
   "version": "3.13.2"
  }
 },
 "nbformat": 4,
 "nbformat_minor": 5
}
